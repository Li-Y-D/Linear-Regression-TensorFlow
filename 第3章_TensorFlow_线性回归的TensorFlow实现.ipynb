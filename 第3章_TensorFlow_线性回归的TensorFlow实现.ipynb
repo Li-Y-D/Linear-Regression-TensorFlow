{
 "cells": [
  {
   "cell_type": "markdown",
   "metadata": {},
   "source": [
    "# 线性回归的TensorFlow实现"
   ]
  },
  {
   "cell_type": "code",
   "execution_count": 1,
   "metadata": {},
   "outputs": [
    {
     "name": "stdout",
     "output_type": "stream",
     "text": [
      "1.14.0\n"
     ]
    }
   ],
   "source": [
    "import numpy as np\n",
    "import matplotlib.pyplot as plt\n",
    "import tensorflow as tf\n",
    "from datetime import datetime\n",
    "plt.rcParams['font.sans-serif']=['SimHei']\n",
    "plt.rcParams['axes.unicode_minus']=False\n",
    "print(tf.__version__)"
   ]
  },
  {
   "cell_type": "code",
   "execution_count": 2,
   "metadata": {},
   "outputs": [],
   "source": [
    "#用于TensorBoard显示的日志文件设置\n",
    "now = datetime.utcnow().strftime('%Y%m%d%H%M%S')    #时间格式\n",
    "root_logdir = 'D:\\课程与书籍\\深度学习入门：基于PyTorch和TensorFlow的理论与实现'      #设置根目录\n",
    "logdir = '{}/ch03/run-{}'.format(root_logdir, now)     #设置日志的存放目录与命名"
   ]
  },
  {
   "cell_type": "markdown",
   "metadata": {},
   "source": [
    "### 1.数据集"
   ]
  },
  {
   "cell_type": "code",
   "execution_count": 3,
   "metadata": {},
   "outputs": [
    {
     "data": {
      "image/png": "[encoded data removed]",
      "text/plain": [
       "<Figure size 432x288 with 1 Axes>"
      ]
     },
     "metadata": {
      "needs_background": "light"
     },
     "output_type": "display_data"
    }
   ],
   "source": [
    "#构造数据集\n",
    "x_train = np.linspace(-1, 1, 50)\n",
    "y_train = 3 * x_train + 10 + 0.5 * np.random.randn(x_train.shape[0])\n",
    "plt.scatter(x_train, y_train)\n",
    "plt.show()"
   ]
  },
  {
   "cell_type": "markdown",
   "metadata": {},
   "source": [
    "### 2.输入节点"
   ]
  },
  {
   "cell_type": "code",
   "execution_count": 4,
   "metadata": {},
   "outputs": [],
   "source": [
    "#对训练数据x_train和y_train创建输入节点\n",
    "x = tf.placeholder(tf.float32, name='x')\n",
    "y = tf.placeholder(tf.float32, name='y')"
   ]
  },
  {
   "cell_type": "markdown",
   "metadata": {},
   "source": [
    "### 3.变量节点"
   ]
  },
  {
   "cell_type": "code",
   "execution_count": 5,
   "metadata": {},
   "outputs": [],
   "source": [
    "#对模型的参数创建变量节点\n",
    "w1 = tf.Variable(tf.random_normal([1]), name='w1')\n",
    "w0 = tf.Variable(tf.zeros([1]), name='w0')"
   ]
  },
  {
   "cell_type": "markdown",
   "metadata": {},
   "source": [
    "### 4.线性模型和损失模型"
   ]
  },
  {
   "cell_type": "code",
   "execution_count": 6,
   "metadata": {},
   "outputs": [],
   "source": [
    "#线性模型\n",
    "y_hat = w0 + w1 * x\n",
    "#均方差损失函数\n",
    "loss = tf.reduce_mean(tf.square(y_hat - y))"
   ]
  },
  {
   "cell_type": "markdown",
   "metadata": {},
   "source": [
    "### 5.梯度下降优化器"
   ]
  },
  {
   "cell_type": "code",
   "execution_count": 7,
   "metadata": {},
   "outputs": [],
   "source": [
    "#梯度下降优化算法，学习率为0.01\n",
    "optimizer = tf.train.GradientDescentOptimizer(0.01)\n",
    "#使用梯度下降优化器最小化均方差loss\n",
    "train = optimizer.minimize(loss)"
   ]
  },
  {
   "cell_type": "code",
   "execution_count": 8,
   "metadata": {},
   "outputs": [],
   "source": [
    "#TensorBoard相关设置\n",
    "loss_summary = tf.summary.scalar('loss', loss)    #损失模型输出添加scalar用于观察loss收敛曲线\n",
    "file_writer = tf.summary.FileWriter(logdir, tf.get_default_graph())    #模型产生的数据保存在日志文件夹供TensorBoard使用"
   ]
  },
  {
   "cell_type": "markdown",
   "metadata": {},
   "source": [
    "### 6.初始化变量"
   ]
  },
  {
   "cell_type": "code",
   "execution_count": 9,
   "metadata": {},
   "outputs": [
    {
     "name": "stdout",
     "output_type": "stream",
     "text": [
      "w1 =  [-1.84575] w0 =  [0.]\n"
     ]
    }
   ],
   "source": [
    "#创建一个会话\n",
    "sess = tf.Session()\n",
    "#初始化变量\n",
    "init = tf.global_variables_initializer()\n",
    "sess.run(init)\n",
    "#打印初始化的w1和w0\n",
    "print(\"w1 = \", sess.run(w1), \"w0 = \", sess.run(w0))"
   ]
  },
  {
   "cell_type": "markdown",
   "metadata": {},
   "source": [
    "### 7.模型训练"
   ]
  },
  {
   "cell_type": "code",
   "execution_count": 10,
   "metadata": {},
   "outputs": [
    {
     "name": "stdout",
     "output_type": "stream",
     "text": [
      "Iteration[20/500], loss: 51.332794\n",
      "Iteration[40/500], loss: 25.005468\n",
      "Iteration[60/500], loss: 12.789643\n",
      "Iteration[80/500], loss: 6.980431\n",
      "Iteration[100/500], loss: 4.115280\n",
      "Iteration[120/500], loss: 2.629390\n",
      "Iteration[140/500], loss: 1.809020\n",
      "Iteration[160/500], loss: 1.323703\n",
      "Iteration[180/500], loss: 1.016816\n",
      "Iteration[200/500], loss: 0.811474\n",
      "Iteration[220/500], loss: 0.668058\n",
      "Iteration[240/500], loss: 0.564859\n",
      "Iteration[260/500], loss: 0.489132\n",
      "Iteration[280/500], loss: 0.432877\n",
      "Iteration[300/500], loss: 0.390771\n",
      "Iteration[320/500], loss: 0.359112\n",
      "Iteration[340/500], loss: 0.335243\n",
      "Iteration[360/500], loss: 0.317219\n",
      "Iteration[380/500], loss: 0.303595\n",
      "Iteration[400/500], loss: 0.293291\n",
      "Iteration[420/500], loss: 0.285496\n",
      "Iteration[440/500], loss: 0.279598\n",
      "Iteration[460/500], loss: 0.275134\n",
      "Iteration[480/500], loss: 0.271755\n",
      "Iteration[500/500], loss: 0.269198\n"
     ]
    }
   ],
   "source": [
    "num_iter = 500\n",
    "for i in range(num_iter):\n",
    "    summary, _ = sess.run([loss_summary, train], {x: x_train, y: y_train})  #训练并返回损失函数的summary\n",
    "    file_writer.add_summary(summary, i)     #损失函数的summary写入TensorBoard日志文件\n",
    "    if (i+1) % 20 == 0:\n",
    "        print('Iteration[{}/{}], loss: {:.6f}'.format(i+1, num_iter, sess.run(loss, {x: x_train, y: y_train})))"
   ]
  },
  {
   "cell_type": "code",
   "execution_count": 11,
   "metadata": {},
   "outputs": [
    {
     "data": {
      "text/plain": [
       "array([2.9270248], dtype=float32)"
      ]
     },
     "execution_count": 11,
     "metadata": {},
     "output_type": "execute_result"
    }
   ],
   "source": [
    "#查看参数w1的数值\n",
    "sess.run(w1)"
   ]
  },
  {
   "cell_type": "code",
   "execution_count": 12,
   "metadata": {},
   "outputs": [
    {
     "data": {
      "text/plain": [
       "array([10.014602], dtype=float32)"
      ]
     },
     "execution_count": 12,
     "metadata": {},
     "output_type": "execute_result"
    }
   ],
   "source": [
    "#查看参数w0的数值\n",
    "sess.run(w0)"
   ]
  },
  {
   "cell_type": "markdown",
   "metadata": {},
   "source": [
    "### 8.模型测试"
   ]
  },
  {
   "cell_type": "code",
   "execution_count": 13,
   "metadata": {},
   "outputs": [
    {
     "data": {
      "image/png": "[encoded data removed]",
      "text/plain": [
       "<Figure size 432x288 with 1 Axes>"
      ]
     },
     "metadata": {
      "needs_background": "light"
     },
     "output_type": "display_data"
    }
   ],
   "source": [
    "#模型的预测输出\n",
    "y_hat = sess.run(y_hat, {x: x_train, y: y_train})\n",
    "plt.scatter(x_train, y_train, label = '原始数据')\n",
    "plt.plot(x_train, y_hat, c='r', label = '拟合直线')\n",
    "#显示图例\n",
    "plt.legend()\n",
    "plt.show()"
   ]
  },
  {
   "cell_type": "code",
   "execution_count": 14,
   "metadata": {},
   "outputs": [],
   "source": [
    "sess.close()                #关闭对话\n",
    "tf.reset_default_graph()    #图复位"
   ]
  }
 ],
 "metadata": {
  "kernelspec": {
   "display_name": "Python 3",
   "language": "python",
   "name": "python3"
  },
  "language_info": {
   "codemirror_mode": {
    "name": "ipython",
    "version": 3
   },
   "file_extension": ".py",
   "mimetype": "text/x-python",
   "name": "python",
   "nbconvert_exporter": "python",
   "pygments_lexer": "ipython3",
   "version": "3.7.2"
  }
 },
 "nbformat": 4,
 "nbformat_minor": 2
}
